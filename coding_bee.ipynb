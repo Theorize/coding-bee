{
 "cells": [
  {
   "cell_type": "markdown",
   "metadata": {},
   "source": [
    "# CODING BEE 🐝\n",
    "\n",
    "This notebook contains the setup code for the Coding Bee up top, and the space to administer the Coding Bee down bottom. Happy coding!"
   ]
  },
  {
   "cell_type": "markdown",
   "metadata": {},
   "source": [
    "## Problems"
   ]
  },
  {
   "cell_type": "code",
   "execution_count": 11,
   "metadata": {},
   "outputs": [],
   "source": [
    "EASY = {\n",
    "    \"easy_sum\": \"Takes two numbers and returns their sum\",\n",
    "    \"easy_product\": \"Takes two numbers and returns their product\",\n",
    "    \"easy_concat\": \"Takes two strings and returns their concatenation\",\n",
    "    \"easy_emptylist\": \"Takes a list and returns True for empty list, False for nonempty\",\n",
    "    \"easy_iseven\": \"Takes a number and returns True if it's even\",\n",
    "    \"easy_and\": \"Takes two booleans and returns their AND\",\n",
    "    \"easy_or\": \"Takes two booleans and returns their OR\",\n",
    "    \"easy_lt\": \"Takes two numbers and return whether num1 is less than num2\",\n",
    "    \n",
    "    # new sp2 2018\n",
    "    \"easy_contains\": \"Takes in 2 non-empty strings and returns True if the first value contains a substring that matches the second value.\",\n",
    "    \"easy_helloname\": \"Takes in a string representing a name and returns a new string saying hello in a very specific format, e.g., if the name is 'Dave', it should return 'Hello, Dave!'\",\n",
    "    \"easy_iscat\": \"Takes in a string and returns 'meow' if it is the exact string 'cat', otherwise 'woof'.\"\n",
    "\n",
    "}\n",
    "MEDIUM = {\n",
    "    \"med_is_hex\": \"Takes a string and returns whether all characters of the string are contained within [0123456789abcdef] - assume lowercase abcdef.\",\n",
    "    \"med_is_decimal\": \"Takes a string and returns whether all characters of the string are digits.\",\n",
    "    \"med_splice_stars\": \"Takes a string and returns the same string, but with the asterisk character interwoven with the string. The empty string should return the empty string and a single character should return that character again.\",\n",
    "    \"med_sum_digits\": \"Takes a string that contains only digits, and returns the sum of those digits.\",\n",
    "    \"med_fib\": \"Returns the nth fibonacci number. Fib(0) = 0 and Fib(1) = 1 for these purposes.\",\n",
    "    \"med_factorial\": \"Returns n factorial. Factorial(0) = 1, Factorial(1) = 1.\",\n",
    "    \"med_product\": \"Takes a list of numbers and returns their product. A list of length 1 should return its sole element, and a list of length 0 should return 1.\",\n",
    "    \"med_leftpad\": \"Takes a string and a number (guaranteed to be greater than length of the string), and returns that string, padded on its left side with empty space characters such that the length of the string equals the number.\",\n",
    "    \n",
    "    # new sp2 2018\n",
    "    \"med_all_odd\": \"Takes in a non-empty list of integers and returns True if all values are odd in the list.\",\n",
    "    \"med_caseinsensitive_equal\": \"Takes in two strings and returns True if they are case insensitive equal.\",\n",
    "    \"med_min_2darray\": \"Takes in a list of lists of integers and returns the minimum value.\",\n",
    "    \"med_clamp\": \"Takes in 3 integers: a value to clamp, a lo, and a hi, returning the value restricted to the nearest number in the range from lo to hi (inclusive).\",\n",
    "    \"med_array_equal\": \"Takes in 2 lists containing integers and returns True if they have the same values in the same order.\",\n",
    "}\n",
    "HARD = {\n",
    "    \"hard_sort_magnitude\": \"Takes a list of positive and negative numbers, and sorts them according to their absolute values. The list [3, -2, 1] would normally get sorted to [-2, 1, 3], but we want you to return [1, -2, 3] instead. protip: python's default sort order is ascending\",\n",
    "    \"hard_merge_dicts\": \"Takes in two dictionaries and returns a dictionary containing entries from the two dictionaries. If a key conflicts, the second dictionary should override the first dictionary. This method should not mutate the input dictionaries.\",\n",
    "    \"hard_dedupe\": \"Takes in a string, and returns a string where only the first occurrence of each letter is retained. So the string 'abccba' goes to 'abc'. The empty string returns the empty string.\",\n",
    "    \"hard_match_parens\": \"Takes in a string containing only '()'. Returns True if that string is a valid nesting of parentheses, False otherwise.\",\n",
    "    \n",
    "    # new sp2 2018\n",
    "    \"hard_is_palindrome\": \"Takes in a string of length 1 or greater and returns True if it is a palindrome.\",\n",
    "    \"hard_most_common_letter\": \"Takes in a string of lowercase letters and returns the most common letter (if multiple, just pick one).\",\n",
    "    \"hard_fizzbuzz\": \"Returns an array of strings representing the numbers 1 to 100, but if the number is divisible by 3 replace it with 'fizz' or if the number is divisible by 5 replace it with 'buzz' or if it is divisble by both, replace it with 'fizzbuzz'\",\n",
    "    \"hard_num_permutations\": \"Takes in a string of non-repeating characters and returns an integer representing the number of permutations of that string.\",\n",
    "    \"hard_combine_max\": \"Takes in 2 lists of integers and returns a new list where each value represents the maxmimum of the input lists at that index. If the lists are not the same length, then the extra values in the longer list should be assumed to be valid maximum values and therefore included in the result.\",\n",
    "}"
   ]
  },
  {
   "cell_type": "markdown",
   "metadata": {},
   "source": [
    "## Test Data"
   ]
  },
  {
   "cell_type": "code",
   "execution_count": 49,
   "metadata": {},
   "outputs": [],
   "source": [
    "import json\n",
    "with open('./tests.json') as f:\n",
    "    ALL_TESTS = json.load(f)\n"
   ]
  },
  {
   "cell_type": "markdown",
   "metadata": {},
   "source": [
    "## Example Fns"
   ]
  },
  {
   "cell_type": "code",
   "execution_count": 50,
   "metadata": {},
   "outputs": [],
   "source": [
    "def official_easy_sum(a, b): return a + b\n",
    "def official_easy_product(a, b): return a * b\n",
    "def official_easy_concat(a, b): return a + b\n",
    "def official_easy_emptylist(l): return not l\n",
    "def official_easy_iseven(x): return x % 2 == 0\n",
    "def official_easy_and(b1, b2): return b1 and b2\n",
    "def official_easy_or(b1, b2): return b1 or b2\n",
    "def official_easy_lt(a, b): return a < b\n",
    "def official_med_is_hex(s): return set(s) <= set('1234567890abcedf')\n",
    "def official_med_is_decimal(s): return set(s) <= set('1234567890')\n",
    "def official_med_splice_stars(s): return '*'.join(s)\n",
    "def official_med_sum_digits(s): return sum(map(int, s))\n",
    "def official_med_fib(n): return n if n < 2 else official_med_fib(n-1) + official_med_fib(n-2) \n",
    "def official_med_factorial(n): return 1 if n < 2 else n * official_med_factorial(n-1)\n",
    "def official_med_product(l): return 1 if not l else l[0] * official_med_product(l[1:])\n",
    "def official_med_leftpad(s, n): return ' ' * (n - len(s)) + s\n",
    "def official_hard_sort_magnitude(l): return sorted(l, key=abs)\n",
    "def official_hard_merge_dicts(d1, d2):\n",
    "    ans = {}\n",
    "    for k, v in d1.items():\n",
    "        ans[k] = v\n",
    "    for k, v in d2.items():\n",
    "        ans[k] = v\n",
    "    return ans\n",
    "def official_hard_dedupe(s):\n",
    "    seen = set()\n",
    "    ans = ''\n",
    "    for char in s:\n",
    "        if char in seen:\n",
    "            continue\n",
    "        seen.add(char)\n",
    "        ans += char\n",
    "    return ans\n",
    "\n",
    "def official_hard_match_parens(s):\n",
    "    count = 0\n",
    "    for char in s:\n",
    "        if char == '(':\n",
    "            count += 1\n",
    "        elif char == ')':\n",
    "            count -= 1\n",
    "        if count < 0:\n",
    "            return False\n",
    "    if count != 0:\n",
    "        return False\n",
    "    return True\n",
    "\n",
    "\n",
    "def official_easy_contains(a, b): return b in a\n",
    "def official_easy_helloname(a): return 'Hello, {}!'.format(a)\n",
    "def official_easy_iscat(a): return 'meow' if a == 'cat' else 'woof'\n",
    "def official_med_all_odd(a): return all(x % 2 == 1 for x in a)\n",
    "def official_med_caseinsensitive_equal(a, b): return a.lower() == b.lower()\n",
    "def official_med_min_2darray(a): return min(min(inner) for inner in a)\n",
    "def official_med_clamp(a,lo,hi): return min(hi, max(lo, a))\n",
    "def official_med_array_equal(a,b): return len(a) == len(b) and all(x == y for x, y in zip(a, b))\n",
    "def official_hard_is_palindrome(a): return ''.join(reversed(a)) == a\n",
    "    \n",
    "# too tricky?\n",
    "def official_hard_most_common_letter(a):\n",
    "    d = {}\n",
    "    for c in a:\n",
    "        d[c] = d.get(c, 0) + 1\n",
    "    l = list(d.items())\n",
    "    l.sort(key=lambda x: -x[1])\n",
    "    return l[0][0]\n",
    "\n",
    "def official_hard_fizzbuzz():\n",
    "    return [\"fizzbuzz\" if i % 3 == 0 and i % 5 == 0 else \n",
    "            \"fizz\" if i % 3 == 0 else \n",
    "            \"buzz\" if i % 5 == 0 else \n",
    "            str(i) for i in range(1, 101)]\n",
    "\n",
    "# too tricky?\n",
    "def official_hard_num_permutations(a): return 1 if len(a) < 2 else len(a) * official_hard_num_permutations(a[1:])\n",
    "\n",
    "# too tricky?\n",
    "def official_hard_combine_max(a, b):\n",
    "    z = [max(x, y) for x, y in zip(a, b)]\n",
    "    if len(a) > len(b):\n",
    "        z += a[len(b):]\n",
    "    elif len(b) > len(a):\n",
    "        z += b[len(a):]\n",
    "    return z\n",
    "\n"
   ]
  },
  {
   "cell_type": "code",
   "execution_count": 51,
   "metadata": {},
   "outputs": [
    {
     "data": {
      "text/markdown": [
       "### Testing: easy_sum"
      ],
      "text/plain": [
       "<IPython.core.display.Markdown object>"
      ]
     },
     "metadata": {},
     "output_type": "display_data"
    },
    {
     "data": {
      "text/markdown": [
       "<font color=\"green\">**_SUCCESS_** 🙂</font>"
      ],
      "text/plain": [
       "<IPython.core.display.Markdown object>"
      ]
     },
     "metadata": {},
     "output_type": "display_data"
    },
    {
     "data": {
      "text/markdown": [
       "### Testing: easy_product"
      ],
      "text/plain": [
       "<IPython.core.display.Markdown object>"
      ]
     },
     "metadata": {},
     "output_type": "display_data"
    },
    {
     "data": {
      "text/markdown": [
       "<font color=\"green\">**_SUCCESS_** 🙂</font>"
      ],
      "text/plain": [
       "<IPython.core.display.Markdown object>"
      ]
     },
     "metadata": {},
     "output_type": "display_data"
    },
    {
     "data": {
      "text/markdown": [
       "### Testing: easy_concat"
      ],
      "text/plain": [
       "<IPython.core.display.Markdown object>"
      ]
     },
     "metadata": {},
     "output_type": "display_data"
    },
    {
     "data": {
      "text/markdown": [
       "<font color=\"green\">**_SUCCESS_** 🙂</font>"
      ],
      "text/plain": [
       "<IPython.core.display.Markdown object>"
      ]
     },
     "metadata": {},
     "output_type": "display_data"
    },
    {
     "data": {
      "text/markdown": [
       "### Testing: easy_emptylist"
      ],
      "text/plain": [
       "<IPython.core.display.Markdown object>"
      ]
     },
     "metadata": {},
     "output_type": "display_data"
    },
    {
     "data": {
      "text/markdown": [
       "<font color=\"green\">**_SUCCESS_** 🙂</font>"
      ],
      "text/plain": [
       "<IPython.core.display.Markdown object>"
      ]
     },
     "metadata": {},
     "output_type": "display_data"
    },
    {
     "data": {
      "text/markdown": [
       "### Testing: easy_iseven"
      ],
      "text/plain": [
       "<IPython.core.display.Markdown object>"
      ]
     },
     "metadata": {},
     "output_type": "display_data"
    },
    {
     "data": {
      "text/markdown": [
       "<font color=\"green\">**_SUCCESS_** 🙂</font>"
      ],
      "text/plain": [
       "<IPython.core.display.Markdown object>"
      ]
     },
     "metadata": {},
     "output_type": "display_data"
    },
    {
     "data": {
      "text/markdown": [
       "### Testing: easy_and"
      ],
      "text/plain": [
       "<IPython.core.display.Markdown object>"
      ]
     },
     "metadata": {},
     "output_type": "display_data"
    },
    {
     "data": {
      "text/markdown": [
       "<font color=\"green\">**_SUCCESS_** 🙂</font>"
      ],
      "text/plain": [
       "<IPython.core.display.Markdown object>"
      ]
     },
     "metadata": {},
     "output_type": "display_data"
    },
    {
     "data": {
      "text/markdown": [
       "### Testing: easy_or"
      ],
      "text/plain": [
       "<IPython.core.display.Markdown object>"
      ]
     },
     "metadata": {},
     "output_type": "display_data"
    },
    {
     "data": {
      "text/markdown": [
       "<font color=\"green\">**_SUCCESS_** 🙂</font>"
      ],
      "text/plain": [
       "<IPython.core.display.Markdown object>"
      ]
     },
     "metadata": {},
     "output_type": "display_data"
    },
    {
     "data": {
      "text/markdown": [
       "### Testing: easy_lt"
      ],
      "text/plain": [
       "<IPython.core.display.Markdown object>"
      ]
     },
     "metadata": {},
     "output_type": "display_data"
    },
    {
     "data": {
      "text/markdown": [
       "<font color=\"green\">**_SUCCESS_** 🙂</font>"
      ],
      "text/plain": [
       "<IPython.core.display.Markdown object>"
      ]
     },
     "metadata": {},
     "output_type": "display_data"
    },
    {
     "data": {
      "text/markdown": [
       "### Testing: med_is_hex"
      ],
      "text/plain": [
       "<IPython.core.display.Markdown object>"
      ]
     },
     "metadata": {},
     "output_type": "display_data"
    },
    {
     "data": {
      "text/markdown": [
       "<font color=\"green\">**_SUCCESS_** 🙂</font>"
      ],
      "text/plain": [
       "<IPython.core.display.Markdown object>"
      ]
     },
     "metadata": {},
     "output_type": "display_data"
    },
    {
     "data": {
      "text/markdown": [
       "### Testing: med_is_decimal"
      ],
      "text/plain": [
       "<IPython.core.display.Markdown object>"
      ]
     },
     "metadata": {},
     "output_type": "display_data"
    },
    {
     "data": {
      "text/markdown": [
       "<font color=\"green\">**_SUCCESS_** 🙂</font>"
      ],
      "text/plain": [
       "<IPython.core.display.Markdown object>"
      ]
     },
     "metadata": {},
     "output_type": "display_data"
    },
    {
     "data": {
      "text/markdown": [
       "### Testing: med_splice_stars"
      ],
      "text/plain": [
       "<IPython.core.display.Markdown object>"
      ]
     },
     "metadata": {},
     "output_type": "display_data"
    },
    {
     "data": {
      "text/markdown": [
       "<font color=\"green\">**_SUCCESS_** 🙂</font>"
      ],
      "text/plain": [
       "<IPython.core.display.Markdown object>"
      ]
     },
     "metadata": {},
     "output_type": "display_data"
    },
    {
     "data": {
      "text/markdown": [
       "### Testing: med_sum_digits"
      ],
      "text/plain": [
       "<IPython.core.display.Markdown object>"
      ]
     },
     "metadata": {},
     "output_type": "display_data"
    },
    {
     "data": {
      "text/markdown": [
       "<font color=\"green\">**_SUCCESS_** 🙂</font>"
      ],
      "text/plain": [
       "<IPython.core.display.Markdown object>"
      ]
     },
     "metadata": {},
     "output_type": "display_data"
    },
    {
     "data": {
      "text/markdown": [
       "### Testing: med_fib"
      ],
      "text/plain": [
       "<IPython.core.display.Markdown object>"
      ]
     },
     "metadata": {},
     "output_type": "display_data"
    },
    {
     "data": {
      "text/markdown": [
       "<font color=\"green\">**_SUCCESS_** 🙂</font>"
      ],
      "text/plain": [
       "<IPython.core.display.Markdown object>"
      ]
     },
     "metadata": {},
     "output_type": "display_data"
    },
    {
     "data": {
      "text/markdown": [
       "### Testing: med_factorial"
      ],
      "text/plain": [
       "<IPython.core.display.Markdown object>"
      ]
     },
     "metadata": {},
     "output_type": "display_data"
    },
    {
     "data": {
      "text/markdown": [
       "<font color=\"green\">**_SUCCESS_** 🙂</font>"
      ],
      "text/plain": [
       "<IPython.core.display.Markdown object>"
      ]
     },
     "metadata": {},
     "output_type": "display_data"
    },
    {
     "data": {
      "text/markdown": [
       "### Testing: med_product"
      ],
      "text/plain": [
       "<IPython.core.display.Markdown object>"
      ]
     },
     "metadata": {},
     "output_type": "display_data"
    },
    {
     "data": {
      "text/markdown": [
       "<font color=\"green\">**_SUCCESS_** 🙂</font>"
      ],
      "text/plain": [
       "<IPython.core.display.Markdown object>"
      ]
     },
     "metadata": {},
     "output_type": "display_data"
    },
    {
     "data": {
      "text/markdown": [
       "### Testing: med_leftpad"
      ],
      "text/plain": [
       "<IPython.core.display.Markdown object>"
      ]
     },
     "metadata": {},
     "output_type": "display_data"
    },
    {
     "data": {
      "text/markdown": [
       "<font color=\"green\">**_SUCCESS_** 🙂</font>"
      ],
      "text/plain": [
       "<IPython.core.display.Markdown object>"
      ]
     },
     "metadata": {},
     "output_type": "display_data"
    },
    {
     "data": {
      "text/markdown": [
       "### Testing: hard_sort_magnitude"
      ],
      "text/plain": [
       "<IPython.core.display.Markdown object>"
      ]
     },
     "metadata": {},
     "output_type": "display_data"
    },
    {
     "data": {
      "text/markdown": [
       "<font color=\"green\">**_SUCCESS_** 🙂</font>"
      ],
      "text/plain": [
       "<IPython.core.display.Markdown object>"
      ]
     },
     "metadata": {},
     "output_type": "display_data"
    },
    {
     "data": {
      "text/markdown": [
       "### Testing: hard_merge_dicts"
      ],
      "text/plain": [
       "<IPython.core.display.Markdown object>"
      ]
     },
     "metadata": {},
     "output_type": "display_data"
    },
    {
     "data": {
      "text/markdown": [
       "<font color=\"green\">**_SUCCESS_** 🙂</font>"
      ],
      "text/plain": [
       "<IPython.core.display.Markdown object>"
      ]
     },
     "metadata": {},
     "output_type": "display_data"
    },
    {
     "data": {
      "text/markdown": [
       "### Testing: hard_dedupe"
      ],
      "text/plain": [
       "<IPython.core.display.Markdown object>"
      ]
     },
     "metadata": {},
     "output_type": "display_data"
    },
    {
     "data": {
      "text/markdown": [
       "<font color=\"green\">**_SUCCESS_** 🙂</font>"
      ],
      "text/plain": [
       "<IPython.core.display.Markdown object>"
      ]
     },
     "metadata": {},
     "output_type": "display_data"
    },
    {
     "data": {
      "text/markdown": [
       "### Testing: hard_match_parens"
      ],
      "text/plain": [
       "<IPython.core.display.Markdown object>"
      ]
     },
     "metadata": {},
     "output_type": "display_data"
    },
    {
     "data": {
      "text/markdown": [
       "<font color=\"green\">**_SUCCESS_** 🙂</font>"
      ],
      "text/plain": [
       "<IPython.core.display.Markdown object>"
      ]
     },
     "metadata": {},
     "output_type": "display_data"
    },
    {
     "data": {
      "text/markdown": [
       "### Testing: easy_contains"
      ],
      "text/plain": [
       "<IPython.core.display.Markdown object>"
      ]
     },
     "metadata": {},
     "output_type": "display_data"
    },
    {
     "data": {
      "text/markdown": [
       "<font color=\"green\">**_SUCCESS_** 🙂</font>"
      ],
      "text/plain": [
       "<IPython.core.display.Markdown object>"
      ]
     },
     "metadata": {},
     "output_type": "display_data"
    },
    {
     "data": {
      "text/markdown": [
       "### Testing: easy_helloname"
      ],
      "text/plain": [
       "<IPython.core.display.Markdown object>"
      ]
     },
     "metadata": {},
     "output_type": "display_data"
    },
    {
     "data": {
      "text/markdown": [
       "<font color=\"green\">**_SUCCESS_** 🙂</font>"
      ],
      "text/plain": [
       "<IPython.core.display.Markdown object>"
      ]
     },
     "metadata": {},
     "output_type": "display_data"
    },
    {
     "data": {
      "text/markdown": [
       "### Testing: easy_iscat"
      ],
      "text/plain": [
       "<IPython.core.display.Markdown object>"
      ]
     },
     "metadata": {},
     "output_type": "display_data"
    },
    {
     "data": {
      "text/markdown": [
       "<font color=\"green\">**_SUCCESS_** 🙂</font>"
      ],
      "text/plain": [
       "<IPython.core.display.Markdown object>"
      ]
     },
     "metadata": {},
     "output_type": "display_data"
    },
    {
     "data": {
      "text/markdown": [
       "### Testing: med_all_odd"
      ],
      "text/plain": [
       "<IPython.core.display.Markdown object>"
      ]
     },
     "metadata": {},
     "output_type": "display_data"
    },
    {
     "data": {
      "text/markdown": [
       "<font color=\"green\">**_SUCCESS_** 🙂</font>"
      ],
      "text/plain": [
       "<IPython.core.display.Markdown object>"
      ]
     },
     "metadata": {},
     "output_type": "display_data"
    },
    {
     "data": {
      "text/markdown": [
       "### Testing: med_caseinsensitive_equal"
      ],
      "text/plain": [
       "<IPython.core.display.Markdown object>"
      ]
     },
     "metadata": {},
     "output_type": "display_data"
    },
    {
     "data": {
      "text/markdown": [
       "<font color=\"green\">**_SUCCESS_** 🙂</font>"
      ],
      "text/plain": [
       "<IPython.core.display.Markdown object>"
      ]
     },
     "metadata": {},
     "output_type": "display_data"
    },
    {
     "data": {
      "text/markdown": [
       "### Testing: med_min_2darray"
      ],
      "text/plain": [
       "<IPython.core.display.Markdown object>"
      ]
     },
     "metadata": {},
     "output_type": "display_data"
    },
    {
     "data": {
      "text/markdown": [
       "<font color=\"green\">**_SUCCESS_** 🙂</font>"
      ],
      "text/plain": [
       "<IPython.core.display.Markdown object>"
      ]
     },
     "metadata": {},
     "output_type": "display_data"
    },
    {
     "data": {
      "text/markdown": [
       "### Testing: med_clamp"
      ],
      "text/plain": [
       "<IPython.core.display.Markdown object>"
      ]
     },
     "metadata": {},
     "output_type": "display_data"
    },
    {
     "data": {
      "text/markdown": [
       "<font color=\"green\">**_SUCCESS_** 🙂</font>"
      ],
      "text/plain": [
       "<IPython.core.display.Markdown object>"
      ]
     },
     "metadata": {},
     "output_type": "display_data"
    },
    {
     "data": {
      "text/markdown": [
       "### Testing: med_array_equal"
      ],
      "text/plain": [
       "<IPython.core.display.Markdown object>"
      ]
     },
     "metadata": {},
     "output_type": "display_data"
    },
    {
     "data": {
      "text/markdown": [
       "<font color=\"green\">**_SUCCESS_** 🙂</font>"
      ],
      "text/plain": [
       "<IPython.core.display.Markdown object>"
      ]
     },
     "metadata": {},
     "output_type": "display_data"
    },
    {
     "data": {
      "text/markdown": [
       "### Testing: hard_is_palindrome"
      ],
      "text/plain": [
       "<IPython.core.display.Markdown object>"
      ]
     },
     "metadata": {},
     "output_type": "display_data"
    },
    {
     "data": {
      "text/markdown": [
       "<font color=\"green\">**_SUCCESS_** 🙂</font>"
      ],
      "text/plain": [
       "<IPython.core.display.Markdown object>"
      ]
     },
     "metadata": {},
     "output_type": "display_data"
    },
    {
     "data": {
      "text/markdown": [
       "### Testing: hard_most_common_letter"
      ],
      "text/plain": [
       "<IPython.core.display.Markdown object>"
      ]
     },
     "metadata": {},
     "output_type": "display_data"
    },
    {
     "data": {
      "text/markdown": [
       "<font color=\"green\">**_SUCCESS_** 🙂</font>"
      ],
      "text/plain": [
       "<IPython.core.display.Markdown object>"
      ]
     },
     "metadata": {},
     "output_type": "display_data"
    },
    {
     "data": {
      "text/markdown": [
       "### Testing: hard_fizzbuzz"
      ],
      "text/plain": [
       "<IPython.core.display.Markdown object>"
      ]
     },
     "metadata": {},
     "output_type": "display_data"
    },
    {
     "data": {
      "text/markdown": [
       "<font color=\"green\">**_SUCCESS_** 🙂</font>"
      ],
      "text/plain": [
       "<IPython.core.display.Markdown object>"
      ]
     },
     "metadata": {},
     "output_type": "display_data"
    },
    {
     "data": {
      "text/markdown": [
       "### Testing: hard_num_permutations"
      ],
      "text/plain": [
       "<IPython.core.display.Markdown object>"
      ]
     },
     "metadata": {},
     "output_type": "display_data"
    },
    {
     "data": {
      "text/markdown": [
       "<font color=\"green\">**_SUCCESS_** 🙂</font>"
      ],
      "text/plain": [
       "<IPython.core.display.Markdown object>"
      ]
     },
     "metadata": {},
     "output_type": "display_data"
    },
    {
     "data": {
      "text/markdown": [
       "### Testing: hard_combine_max"
      ],
      "text/plain": [
       "<IPython.core.display.Markdown object>"
      ]
     },
     "metadata": {},
     "output_type": "display_data"
    },
    {
     "data": {
      "text/markdown": [
       "<font color=\"green\">**_SUCCESS_** 🙂</font>"
      ],
      "text/plain": [
       "<IPython.core.display.Markdown object>"
      ]
     },
     "metadata": {},
     "output_type": "display_data"
    }
   ],
   "source": [
    "from IPython.display import display, Markdown\n",
    "import copy\n",
    "\n",
    "def run_test(challenge_name, submission):\n",
    "    display(Markdown(f'### Testing: {challenge_name}'))\n",
    "    test_cases = ALL_TESTS[challenge_name]\n",
    "    success = True\n",
    "    for args, expected in test_cases:\n",
    "        copy_args = copy.deepcopy(args) # defensive copying in case submission mutates the value\n",
    "        actual = submission(*copy_args)\n",
    "        if not actual == expected:\n",
    "            print('Input: {}'.format(copy_args))\n",
    "            print('Expected: %r' % expected)\n",
    "            print('Got back: %r' % actual)\n",
    "            success = False\n",
    "        if not copy_args == args:\n",
    "            print('Input args got mutated!')\n",
    "            print('original input: {}'.format(args))\n",
    "            print('after call    : {}'.format(copy_args))\n",
    "            success = False\n",
    "            \n",
    "    msg = 'SUCCESS' if success else 'FAIL'\n",
    "    emoji = '🙂' if success else '🙃'\n",
    "    color = 'green' if success else '#ba2425'\n",
    "    display(Markdown(f'<font color=\"{color}\">**_{msg}_** {emoji}</font>'))\n",
    "\n",
    "def test_official_solutions():\n",
    "    challenges = ALL_TESTS.keys()\n",
    "    for challenge in challenges:\n",
    "        official_solution = globals()['official_' + challenge]\n",
    "        run_test(challenge, official_solution)\n",
    "\n",
    "test_official_solutions()"
   ]
  },
  {
   "cell_type": "code",
   "execution_count": 52,
   "metadata": {},
   "outputs": [],
   "source": [
    "from IPython.display import display, Markdown\n",
    "\n",
    "import random\n",
    "def choose_problem(problems):\n",
    "    title, desc = random.choice(list(problems.items()))\n",
    "    return display(Markdown(f'\\n### {title}\\n\\n{desc}\\n'))"
   ]
  },
  {
   "cell_type": "markdown",
   "metadata": {},
   "source": [
    "\n",
    "---\n",
    "\n",
    "---\n",
    "\n",
    "---\n",
    "\n",
    "---\n",
    "\n",
    "---\n",
    "\n",
    "---\n",
    "\n",
    "---\n",
    "\n",
    "---\n",
    "\n",
    "---\n",
    "\n",
    "---\n",
    "\n",
    "---\n",
    "\n",
    "---\n",
    "\n",
    "---\n",
    "\n",
    "---\n",
    "\n",
    "---\n",
    "\n",
    "\n",
    "# Welcome to the Coding Bee 💻🌈🍯🐝\n",
    "\n",
    "---\n",
    "\n",
    "Once you and your partner start, you will alternate saying characters to spell out a function. Each turn you can say:\n",
    "\n",
    "*   any character - including space, tab, newline (not backspace!)\n",
    "*   clear line - to clear the current line\n",
    "*   clear all - to clear the entire function\n",
    "*   finished - to signify that you are done\n",
    "\n",
    "You will have 5 minutes!\n",
    "\n",
    "Choose problem via:\n",
    "\n",
    "```python3\n",
    "choose_problem(HARD)\n",
    "choose_problem(MEDIUM)\n",
    "choose_problem(EASY)\n",
    "```\n",
    "\n",
    "Verify result for function named `f` with:\n",
    "\n",
    "```python3\n",
    "run_test('name_of_problem', f)\n",
    "```\n",
    "\n",
    "\n",
    "\n"
   ]
  },
  {
   "cell_type": "code",
   "execution_count": 53,
   "metadata": {},
   "outputs": [
    {
     "data": {
      "text/markdown": [
       "\n",
       "### hard_is_palindrome\n",
       "\n",
       "Takes in a string of length 1 or greater and returns True if it is a palindrome.\n"
      ],
      "text/plain": [
       "<IPython.core.display.Markdown object>"
      ]
     },
     "metadata": {},
     "output_type": "display_data"
    }
   ],
   "source": [
    "choose_problem(HARD)"
   ]
  },
  {
   "cell_type": "code",
   "execution_count": 54,
   "metadata": {},
   "outputs": [
    {
     "data": {
      "text/markdown": [
       "\n",
       "### med_caseinsensitive_equal\n",
       "\n",
       "Takes in two strings and returns True if they are case insensitive equal.\n"
      ],
      "text/plain": [
       "<IPython.core.display.Markdown object>"
      ]
     },
     "metadata": {},
     "output_type": "display_data"
    }
   ],
   "source": [
    "choose_problem(MEDIUM)"
   ]
  },
  {
   "cell_type": "code",
   "execution_count": 55,
   "metadata": {},
   "outputs": [
    {
     "data": {
      "text/markdown": [
       "\n",
       "### easy_and\n",
       "\n",
       "Takes two booleans and returns their AND\n"
      ],
      "text/plain": [
       "<IPython.core.display.Markdown object>"
      ]
     },
     "metadata": {},
     "output_type": "display_data"
    }
   ],
   "source": [
    "choose_problem(EASY)"
   ]
  },
  {
   "cell_type": "code",
   "execution_count": 56,
   "metadata": {},
   "outputs": [],
   "source": [
    "def f(x):\n",
    "    return x % 2 == 0"
   ]
  },
  {
   "cell_type": "code",
   "execution_count": 57,
   "metadata": {},
   "outputs": [
    {
     "data": {
      "text/markdown": [
       "### Testing: easy_iseven"
      ],
      "text/plain": [
       "<IPython.core.display.Markdown object>"
      ]
     },
     "metadata": {},
     "output_type": "display_data"
    },
    {
     "data": {
      "text/markdown": [
       "<font color=\"green\">**_SUCCESS_** 🙂</font>"
      ],
      "text/plain": [
       "<IPython.core.display.Markdown object>"
      ]
     },
     "metadata": {},
     "output_type": "display_data"
    }
   ],
   "source": [
    "run_test(\"easy_iseven\", f)"
   ]
  },
  {
   "cell_type": "code",
   "execution_count": 58,
   "metadata": {},
   "outputs": [],
   "source": [
    "def f(x): return True\n"
   ]
  },
  {
   "cell_type": "code",
   "execution_count": 59,
   "metadata": {},
   "outputs": [
    {
     "data": {
      "text/markdown": [
       "### Testing: easy_iseven"
      ],
      "text/plain": [
       "<IPython.core.display.Markdown object>"
      ]
     },
     "metadata": {},
     "output_type": "display_data"
    },
    {
     "name": "stdout",
     "output_type": "stream",
     "text": [
      "Input: [7]\n",
      "Expected: False\n",
      "Got back: True\n"
     ]
    },
    {
     "data": {
      "text/markdown": [
       "<font color=\"#ba2425\">**_FAIL_** 🙃</font>"
      ],
      "text/plain": [
       "<IPython.core.display.Markdown object>"
      ]
     },
     "metadata": {},
     "output_type": "display_data"
    }
   ],
   "source": [
    "run_test(\"easy_iseven\", f)"
   ]
  },
  {
   "cell_type": "code",
   "execution_count": null,
   "metadata": {},
   "outputs": [],
   "source": []
  }
 ],
 "metadata": {
  "kernelspec": {
   "display_name": "Python 3",
   "language": "python",
   "name": "python3"
  },
  "language_info": {
   "codemirror_mode": {
    "name": "ipython",
    "version": 3
   },
   "file_extension": ".py",
   "mimetype": "text/x-python",
   "name": "python",
   "nbconvert_exporter": "python",
   "pygments_lexer": "ipython3",
   "version": "3.6.4"
  }
 },
 "nbformat": 4,
 "nbformat_minor": 1
}
