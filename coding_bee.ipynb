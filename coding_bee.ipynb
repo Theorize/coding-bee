{
 "cells": [
  {
   "cell_type": "markdown",
   "metadata": {},
   "source": [
    "# CODING BEE 🐝\n",
    "\n",
    "This notebook contains the setup code for the Coding Bee up top, and the space to administer the Coding Bee down bottom. Happy coding!"
   ]
  },
  {
   "cell_type": "markdown",
   "metadata": {},
   "source": [
    "## Problems"
   ]
  },
  {
   "cell_type": "code",
   "execution_count": 102,
   "metadata": {},
   "outputs": [],
   "source": [
    "EASY = {\n",
    "    \"easy_sum\": \"Takes two numbers and returns their sum\",\n",
    "    \"easy_product\": \"Takes two numbers and returns their product\",\n",
    "    \"easy_concat\": \"Takes two strings and returns their concatenation\",\n",
    "    \"easy_emptylist\": \"Takes a list and returns True for empty list, False for nonempty\",\n",
    "    \"easy_iseven\": \"Takes a number and returns True if it's even\",\n",
    "    \"easy_and\": \"Takes two booleans and returns their AND\",\n",
    "    \"easy_or\": \"Takes two booleans and returns their OR\",\n",
    "    \"easy_lt\": \"Takes two numbers and return whether num1 is less than num2\",\n",
    "}\n",
    "MEDIUM = {\n",
    "    \"med_is_hex\": \"Takes a string and returns whether all characters of the string are contained within [0123456789abcdef] - assume lowercase abcdef.\",\n",
    "    \"med_is_decimal\": \"Takes a string and returns whether all characters of the string are digits.\",\n",
    "    \"med_splice_stars\": \"Takes a string and returns the same string, but with the asterisk character interwoven with the string. The empty string should return the empty string and a single character should return that character again.\",\n",
    "    \"med_sum_digits\": \"Takes a string that contains only digits, and returns the sum of those digits.\",\n",
    "    \"med_fib\": \"Returns the nth fibonacci number. Fib(0) = 0 and Fib(1) = 1 for these purposes.\",\n",
    "    \"med_factorial\": \"Returns n factorial. Factorial(0) = 1, Factorial(1) = 1.\",\n",
    "    \"med_product\": \"Takes a list of numbers and returns their product. A list of length 1 should return its sole element, and a list of length 0 should return 1.\",\n",
    "    \"med_leftpad\": \"Takes a string and a number (guaranteed to be greater than length of the string), and returns that string, padded on its left side with empty space characters such that the length of the string equals the number.\",\n",
    "}\n",
    "HARD = {\n",
    "    \"hard_sort_magnitude\": \"Takes a list of positive and negative numbers, and sorts them according to their absolute values. The list [3, -2, 1] would normally get sorted to [-2, 1, 3], but we want you to return [1, -2, 3] instead. protip: python's default sort order is ascending\",\n",
    "    \"hard_merge_dicts\": \"Takes in two dictionaries and returns a dictionary containing entries from the two dictionaries. If a key conflicts, the second dictionary should override the first dictionary. This method should not mutate the input dictionaries.\",\n",
    "    \"hard_dedupe\": \"Takes in a string, and returns a string where only the first occurrence of each letter is retained. So the string 'abccba' goes to 'abc'. The empty string returns the empty string.\",\n",
    "    \"hard_match_parens\": \"Takes in a string containing only '()'. Returns True if that string is a valid nesting of parentheses, False otherwise.\",\n",
    "}"
   ]
  },
  {
   "cell_type": "markdown",
   "metadata": {},
   "source": [
    "## Test Data"
   ]
  },
  {
   "cell_type": "code",
   "execution_count": 103,
   "metadata": {},
   "outputs": [],
   "source": [
    "ALL_TESTS = {\n",
    "    \"easy_sum\": [\n",
    "        [[1, 2], 3],\n",
    "        [[0, 0], 0],\n",
    "    ],\n",
    "    \"easy_product\": [\n",
    "        [[1, 2], 2],\n",
    "        [[3, 2.5], 7.5],\n",
    "        [[0, 10], 0],\n",
    "    ],\n",
    "    \"easy_concat\": [\n",
    "        [[\"hello\", \"world\"], \"helloworld\"],\n",
    "        [[\"\", \"world\"], \"world\"],\n",
    "        [[\"hello\", \"\"], \"hello\"],\n",
    "    ],\n",
    "    \"easy_emptylist\": [\n",
    "        [[[\"hello\"],], False],\n",
    "        [[[],], True],\n",
    "    ],\n",
    "    \"easy_iseven\": [\n",
    "        [[7,], False],\n",
    "        [[-2,], True],\n",
    "        [[0,], True],\n",
    "    ],\n",
    "    \"easy_and\": [\n",
    "        [[True, True], True],\n",
    "        [[True, False], False],\n",
    "        [[False, True], False],\n",
    "        [[False, False], False],\n",
    "    ],\n",
    "    \"easy_or\": [\n",
    "        [[True, True], True],\n",
    "        [[True, False], True],\n",
    "        [[False, True], True],\n",
    "        [[False, False], False],\n",
    "    ],\n",
    "    \"easy_lt\": [\n",
    "        [[3, 4], True],\n",
    "        [[0, 0], False],\n",
    "        [[5, 3], False],\n",
    "    ],\n",
    "    \"med_is_hex\": [\n",
    "        [[\"124567890abcdef\",], True],\n",
    "        [[\"abcdefg\",], False],\n",
    "        [[\"  12345\",], False],\n",
    "        [[\"\",], True],\n",
    "    ],\n",
    "    \"med_is_decimal\": [\n",
    "        [[\"124567890\",], True],\n",
    "        [[\"123abc\",], False],\n",
    "        [[\"   123\",], False],\n",
    "        [[\"\",], True],\n",
    "    ],\n",
    "    \"med_splice_stars\": [\n",
    "        [[\"hello\",], \"h*e*l*l*o\"],\n",
    "        [[\"h\",], \"h\"],\n",
    "        [[\"\",], \"\"],\n",
    "    ],\n",
    "    \"med_sum_digits\": [\n",
    "        [[\"123\",], 6],\n",
    "        [[\"100\",], 1],\n",
    "        [[\"\",], 0],\n",
    "    ],\n",
    "    \"med_fib\": [\n",
    "        [[0,], 0],\n",
    "        [[1,], 1],\n",
    "        [[5,], 5],\n",
    "        [[7,], 13],\n",
    "    ],\n",
    "    \"med_factorial\": [\n",
    "        [[0,], 1],\n",
    "        [[1,], 1],\n",
    "        [[5,], 120],\n",
    "    ],\n",
    "    \"med_product\": [\n",
    "        [[[0, 5, 7],], 0],\n",
    "        [[[1],], 1],\n",
    "        [[[],], 1],\n",
    "    ],\n",
    "    \"med_leftpad\": [\n",
    "        [[\"abc\", 5], \"  abc\"],\n",
    "        [[\"abc\", 3], \"abc\"],\n",
    "        [[\"\", 5], \"     \"],\n",
    "    ],\n",
    "    \"hard_sort_magnitude\": [\n",
    "        [[[1, 2, 3],], [1, 2, 3]],\n",
    "        [[[3, 2, 1],], [1, 2, 3]],\n",
    "        [[[1, -2, 3],], [1, -2, 3]],\n",
    "        [[[-3, 2, 1],], [1, 2, -3]],\n",
    "        [[[],], []],\n",
    "    ],\n",
    "    \"hard_merge_dicts\": [\n",
    "        [[{\"a\": 1}, {\"b\": 2}], {\"a\": 1, \"b\": 2}],\n",
    "        [[{\"a\": 1}, {\"a\": 2}], {\"a\": 2}],\n",
    "        [[{\"a\": 1}, {}], {\"a\": 1}],\n",
    "        [[{}, {\"a\": 1}], {\"a\": 1}],\n",
    "    ],\n",
    "    \"hard_dedupe\": [\n",
    "        [[\"abc\",], \"abc\"],\n",
    "        [[\"blahblah\",], \"blah\"],\n",
    "        [[\"abccba\",], \"abc\"],\n",
    "        [[\"aaabaca\",], \"abc\"],\n",
    "        [[\"\",], \"\"],\n",
    "    ],\n",
    "    \"hard_match_parens\": [\n",
    "        [[\"(())\",], True],\n",
    "        [[\"()()\",], True],\n",
    "        [[\"(())()\",], True],\n",
    "        [[\")(\",], False],\n",
    "        [[\"())(\",], False],\n",
    "        [[\"\",], True],\n",
    "    ]\n",
    "}"
   ]
  },
  {
   "cell_type": "markdown",
   "metadata": {},
   "source": [
    "## Test Data as JSON"
   ]
  },
  {
   "cell_type": "code",
   "execution_count": 117,
   "metadata": {},
   "outputs": [
    {
     "name": "stdout",
     "output_type": "stream",
     "text": [
      "{\"easy_sum\": [[[1, 2], 3], [[0, 0], 0]], \"easy_product\": [[[1, 2], 2], [[3, 2.5], 7.5], [[0, 10], 0]], \"easy_concat\": [[[\"hello\", \"world\"], \"helloworld\"], [[\"\", \"world\"], \"world\"], [[\"hello\", \"\"], \"hello\"]], \"easy_emptylist\": [[[[\"hello\"]], false], [[[]], true]], \"easy_iseven\": [[[7], false], [[-2], true], [[0], true]], \"easy_and\": [[[true, true], true], [[true, false], false], [[false, true], false], [[false, false], false]], \"easy_or\": [[[true, true], true], [[true, false], true], [[false, true], true], [[false, false], false]], \"easy_lt\": [[[3, 4], true], [[0, 0], false], [[5, 3], false]], \"med_is_hex\": [[[\"124567890abcdef\"], true], [[\"abcdefg\"], false], [[\"  12345\"], false], [[\"\"], true]], \"med_is_decimal\": [[[\"124567890\"], true], [[\"123abc\"], false], [[\"   123\"], false], [[\"\"], true]], \"med_splice_stars\": [[[\"hello\"], \"h*e*l*l*o\"], [[\"h\"], \"h\"], [[\"\"], \"\"]], \"med_sum_digits\": [[[\"123\"], 6], [[\"100\"], 1], [[\"\"], 0]], \"med_fib\": [[[0], 0], [[1], 1], [[5], 5], [[7], 13]], \"med_factorial\": [[[0], 1], [[1], 1], [[5], 120]], \"med_product\": [[[[0, 5, 7]], 0], [[[1]], 1], [[[]], 1]], \"med_leftpad\": [[[\"abc\", 5], \"  abc\"], [[\"abc\", 3], \"abc\"], [[\"\", 5], \"     \"]], \"hard_sort_magnitude\": [[[[1, 2, 3]], [1, 2, 3]], [[[3, 2, 1]], [1, 2, 3]], [[[1, -2, 3]], [1, -2, 3]], [[[-3, 2, 1]], [1, 2, -3]], [[[]], []]], \"hard_merge_dicts\": [[[{\"a\": 1}, {\"b\": 2}], {\"a\": 1, \"b\": 2}], [[{\"a\": 1}, {\"a\": 2}], {\"a\": 2}], [[{\"a\": 1}, {}], {\"a\": 1}], [[{}, {\"a\": 1}], {\"a\": 1}]], \"hard_dedupe\": [[[\"abc\"], \"abc\"], [[\"blahblah\"], \"blah\"], [[\"abccba\"], \"abc\"], [[\"aaabaca\"], \"abc\"], [[\"\"], \"\"]], \"hard_match_parens\": [[[\"(())\"], true], [[\"()()\"], true], [[\"(())()\"], true], [[\")(\"], false], [[\"())(\"], false], [[\"\"], true]]}\n"
     ]
    }
   ],
   "source": [
    "import json\n",
    "print(json.dumps(ALL_TESTS))"
   ]
  },
  {
   "cell_type": "markdown",
   "metadata": {},
   "source": [
    "## Example Fns"
   ]
  },
  {
   "cell_type": "code",
   "execution_count": 104,
   "metadata": {},
   "outputs": [],
   "source": [
    "def official_easy_sum(a, b): return a + b\n",
    "def official_easy_product(a, b): return a * b\n",
    "def official_easy_concat(a, b): return a + b\n",
    "def official_easy_emptylist(l): return not l\n",
    "def official_easy_iseven(x): return x % 2 == 0\n",
    "def official_easy_and(b1, b2): return b1 and b2\n",
    "def official_easy_or(b1, b2): return b1 or b2\n",
    "def official_easy_lt(a, b): return a < b\n",
    "def official_med_is_hex(s): return set(s) <= set('1234567890abcedf')\n",
    "def official_med_is_decimal(s): return set(s) <= set('1234567890')\n",
    "def official_med_splice_stars(s): return '*'.join(s)\n",
    "def official_med_sum_digits(s): return sum(map(int, s))\n",
    "def official_med_fib(n): return n if n < 2 else official_med_fib(n-1) + official_med_fib(n-2) \n",
    "def official_med_factorial(n): return 1 if n < 2 else n * official_med_factorial(n-1)\n",
    "def official_med_product(l): return 1 if not l else l[0] * official_med_product(l[1:])\n",
    "def official_med_leftpad(s, n): return ' ' * (n - len(s)) + s\n",
    "def official_hard_sort_magnitude(l): return sorted(l, key=abs)\n",
    "def official_hard_merge_dicts(d1, d2):\n",
    "    ans = {}\n",
    "    for k, v in d1.items():\n",
    "        ans[k] = v\n",
    "    for k, v in d2.items():\n",
    "        ans[k] = v\n",
    "    return ans\n",
    "def official_hard_dedupe(s):\n",
    "    seen = set()\n",
    "    ans = ''\n",
    "    for char in s:\n",
    "        if char in seen:\n",
    "            continue\n",
    "        seen.add(char)\n",
    "        ans += char\n",
    "    return ans\n",
    "\n",
    "def official_hard_match_parens(s):\n",
    "    count = 0\n",
    "    for char in s:\n",
    "        if char == '(':\n",
    "            count += 1\n",
    "        elif char == ')':\n",
    "            count -= 1\n",
    "        if count < 0:\n",
    "            return False\n",
    "    if count != 0:\n",
    "        return False\n",
    "    return True"
   ]
  },
  {
   "cell_type": "code",
   "execution_count": 105,
   "metadata": {},
   "outputs": [
    {
     "data": {
      "text/markdown": [
       "### Testing: easy_sum"
      ],
      "text/plain": [
       "<IPython.core.display.Markdown object>"
      ]
     },
     "metadata": {},
     "output_type": "display_data"
    },
    {
     "data": {
      "text/markdown": [
       "<font color=\"green\">**_SUCCESS_** 🙂</font>"
      ],
      "text/plain": [
       "<IPython.core.display.Markdown object>"
      ]
     },
     "metadata": {},
     "output_type": "display_data"
    },
    {
     "data": {
      "text/markdown": [
       "### Testing: easy_product"
      ],
      "text/plain": [
       "<IPython.core.display.Markdown object>"
      ]
     },
     "metadata": {},
     "output_type": "display_data"
    },
    {
     "data": {
      "text/markdown": [
       "<font color=\"green\">**_SUCCESS_** 🙂</font>"
      ],
      "text/plain": [
       "<IPython.core.display.Markdown object>"
      ]
     },
     "metadata": {},
     "output_type": "display_data"
    },
    {
     "data": {
      "text/markdown": [
       "### Testing: easy_concat"
      ],
      "text/plain": [
       "<IPython.core.display.Markdown object>"
      ]
     },
     "metadata": {},
     "output_type": "display_data"
    },
    {
     "data": {
      "text/markdown": [
       "<font color=\"green\">**_SUCCESS_** 🙂</font>"
      ],
      "text/plain": [
       "<IPython.core.display.Markdown object>"
      ]
     },
     "metadata": {},
     "output_type": "display_data"
    },
    {
     "data": {
      "text/markdown": [
       "### Testing: easy_emptylist"
      ],
      "text/plain": [
       "<IPython.core.display.Markdown object>"
      ]
     },
     "metadata": {},
     "output_type": "display_data"
    },
    {
     "data": {
      "text/markdown": [
       "<font color=\"green\">**_SUCCESS_** 🙂</font>"
      ],
      "text/plain": [
       "<IPython.core.display.Markdown object>"
      ]
     },
     "metadata": {},
     "output_type": "display_data"
    },
    {
     "data": {
      "text/markdown": [
       "### Testing: easy_iseven"
      ],
      "text/plain": [
       "<IPython.core.display.Markdown object>"
      ]
     },
     "metadata": {},
     "output_type": "display_data"
    },
    {
     "data": {
      "text/markdown": [
       "<font color=\"green\">**_SUCCESS_** 🙂</font>"
      ],
      "text/plain": [
       "<IPython.core.display.Markdown object>"
      ]
     },
     "metadata": {},
     "output_type": "display_data"
    },
    {
     "data": {
      "text/markdown": [
       "### Testing: easy_and"
      ],
      "text/plain": [
       "<IPython.core.display.Markdown object>"
      ]
     },
     "metadata": {},
     "output_type": "display_data"
    },
    {
     "data": {
      "text/markdown": [
       "<font color=\"green\">**_SUCCESS_** 🙂</font>"
      ],
      "text/plain": [
       "<IPython.core.display.Markdown object>"
      ]
     },
     "metadata": {},
     "output_type": "display_data"
    },
    {
     "data": {
      "text/markdown": [
       "### Testing: easy_or"
      ],
      "text/plain": [
       "<IPython.core.display.Markdown object>"
      ]
     },
     "metadata": {},
     "output_type": "display_data"
    },
    {
     "data": {
      "text/markdown": [
       "<font color=\"green\">**_SUCCESS_** 🙂</font>"
      ],
      "text/plain": [
       "<IPython.core.display.Markdown object>"
      ]
     },
     "metadata": {},
     "output_type": "display_data"
    },
    {
     "data": {
      "text/markdown": [
       "### Testing: easy_lt"
      ],
      "text/plain": [
       "<IPython.core.display.Markdown object>"
      ]
     },
     "metadata": {},
     "output_type": "display_data"
    },
    {
     "data": {
      "text/markdown": [
       "<font color=\"green\">**_SUCCESS_** 🙂</font>"
      ],
      "text/plain": [
       "<IPython.core.display.Markdown object>"
      ]
     },
     "metadata": {},
     "output_type": "display_data"
    },
    {
     "data": {
      "text/markdown": [
       "### Testing: med_is_hex"
      ],
      "text/plain": [
       "<IPython.core.display.Markdown object>"
      ]
     },
     "metadata": {},
     "output_type": "display_data"
    },
    {
     "data": {
      "text/markdown": [
       "<font color=\"green\">**_SUCCESS_** 🙂</font>"
      ],
      "text/plain": [
       "<IPython.core.display.Markdown object>"
      ]
     },
     "metadata": {},
     "output_type": "display_data"
    },
    {
     "data": {
      "text/markdown": [
       "### Testing: med_is_decimal"
      ],
      "text/plain": [
       "<IPython.core.display.Markdown object>"
      ]
     },
     "metadata": {},
     "output_type": "display_data"
    },
    {
     "data": {
      "text/markdown": [
       "<font color=\"green\">**_SUCCESS_** 🙂</font>"
      ],
      "text/plain": [
       "<IPython.core.display.Markdown object>"
      ]
     },
     "metadata": {},
     "output_type": "display_data"
    },
    {
     "data": {
      "text/markdown": [
       "### Testing: med_splice_stars"
      ],
      "text/plain": [
       "<IPython.core.display.Markdown object>"
      ]
     },
     "metadata": {},
     "output_type": "display_data"
    },
    {
     "data": {
      "text/markdown": [
       "<font color=\"green\">**_SUCCESS_** 🙂</font>"
      ],
      "text/plain": [
       "<IPython.core.display.Markdown object>"
      ]
     },
     "metadata": {},
     "output_type": "display_data"
    },
    {
     "data": {
      "text/markdown": [
       "### Testing: med_sum_digits"
      ],
      "text/plain": [
       "<IPython.core.display.Markdown object>"
      ]
     },
     "metadata": {},
     "output_type": "display_data"
    },
    {
     "data": {
      "text/markdown": [
       "<font color=\"green\">**_SUCCESS_** 🙂</font>"
      ],
      "text/plain": [
       "<IPython.core.display.Markdown object>"
      ]
     },
     "metadata": {},
     "output_type": "display_data"
    },
    {
     "data": {
      "text/markdown": [
       "### Testing: med_fib"
      ],
      "text/plain": [
       "<IPython.core.display.Markdown object>"
      ]
     },
     "metadata": {},
     "output_type": "display_data"
    },
    {
     "data": {
      "text/markdown": [
       "<font color=\"green\">**_SUCCESS_** 🙂</font>"
      ],
      "text/plain": [
       "<IPython.core.display.Markdown object>"
      ]
     },
     "metadata": {},
     "output_type": "display_data"
    },
    {
     "data": {
      "text/markdown": [
       "### Testing: med_factorial"
      ],
      "text/plain": [
       "<IPython.core.display.Markdown object>"
      ]
     },
     "metadata": {},
     "output_type": "display_data"
    },
    {
     "data": {
      "text/markdown": [
       "<font color=\"green\">**_SUCCESS_** 🙂</font>"
      ],
      "text/plain": [
       "<IPython.core.display.Markdown object>"
      ]
     },
     "metadata": {},
     "output_type": "display_data"
    },
    {
     "data": {
      "text/markdown": [
       "### Testing: med_product"
      ],
      "text/plain": [
       "<IPython.core.display.Markdown object>"
      ]
     },
     "metadata": {},
     "output_type": "display_data"
    },
    {
     "data": {
      "text/markdown": [
       "<font color=\"green\">**_SUCCESS_** 🙂</font>"
      ],
      "text/plain": [
       "<IPython.core.display.Markdown object>"
      ]
     },
     "metadata": {},
     "output_type": "display_data"
    },
    {
     "data": {
      "text/markdown": [
       "### Testing: med_leftpad"
      ],
      "text/plain": [
       "<IPython.core.display.Markdown object>"
      ]
     },
     "metadata": {},
     "output_type": "display_data"
    },
    {
     "data": {
      "text/markdown": [
       "<font color=\"green\">**_SUCCESS_** 🙂</font>"
      ],
      "text/plain": [
       "<IPython.core.display.Markdown object>"
      ]
     },
     "metadata": {},
     "output_type": "display_data"
    },
    {
     "data": {
      "text/markdown": [
       "### Testing: hard_sort_magnitude"
      ],
      "text/plain": [
       "<IPython.core.display.Markdown object>"
      ]
     },
     "metadata": {},
     "output_type": "display_data"
    },
    {
     "data": {
      "text/markdown": [
       "<font color=\"green\">**_SUCCESS_** 🙂</font>"
      ],
      "text/plain": [
       "<IPython.core.display.Markdown object>"
      ]
     },
     "metadata": {},
     "output_type": "display_data"
    },
    {
     "data": {
      "text/markdown": [
       "### Testing: hard_merge_dicts"
      ],
      "text/plain": [
       "<IPython.core.display.Markdown object>"
      ]
     },
     "metadata": {},
     "output_type": "display_data"
    },
    {
     "data": {
      "text/markdown": [
       "<font color=\"green\">**_SUCCESS_** 🙂</font>"
      ],
      "text/plain": [
       "<IPython.core.display.Markdown object>"
      ]
     },
     "metadata": {},
     "output_type": "display_data"
    },
    {
     "data": {
      "text/markdown": [
       "### Testing: hard_dedupe"
      ],
      "text/plain": [
       "<IPython.core.display.Markdown object>"
      ]
     },
     "metadata": {},
     "output_type": "display_data"
    },
    {
     "data": {
      "text/markdown": [
       "<font color=\"green\">**_SUCCESS_** 🙂</font>"
      ],
      "text/plain": [
       "<IPython.core.display.Markdown object>"
      ]
     },
     "metadata": {},
     "output_type": "display_data"
    },
    {
     "data": {
      "text/markdown": [
       "### Testing: hard_match_parens"
      ],
      "text/plain": [
       "<IPython.core.display.Markdown object>"
      ]
     },
     "metadata": {},
     "output_type": "display_data"
    },
    {
     "data": {
      "text/markdown": [
       "<font color=\"green\">**_SUCCESS_** 🙂</font>"
      ],
      "text/plain": [
       "<IPython.core.display.Markdown object>"
      ]
     },
     "metadata": {},
     "output_type": "display_data"
    }
   ],
   "source": [
    "from IPython.display import display, Markdown\n",
    "import copy\n",
    "\n",
    "def run_test(challenge_name, submission):\n",
    "    display(Markdown(f'### Testing: {challenge_name}'))\n",
    "    test_cases = ALL_TESTS[challenge_name]\n",
    "    success = True\n",
    "    for args, expected in test_cases:\n",
    "        copy_args = copy.deepcopy(args) # defensive copying in case submission mutates the value\n",
    "        actual = submission(*copy_args)\n",
    "        if not actual == expected:\n",
    "            print('Input: {}'.format(copy_args))\n",
    "            print('Expected: %r' % expected)\n",
    "            print('Got back: %r' % actual)\n",
    "            success = False\n",
    "        if not copy_args == args:\n",
    "            print('Input args got mutated!')\n",
    "            print('original input: {}'.format(args))\n",
    "            print('after call    : {}'.format(copy_args))\n",
    "            success = False\n",
    "            \n",
    "    msg = 'SUCCESS' if success else 'FAIL'\n",
    "    emoji = '🙂' if success else '🙃'\n",
    "    color = 'green' if success else '#ba2425'\n",
    "    display(Markdown(f'<font color=\"{color}\">**_{msg}_** {emoji}</font>'))\n",
    "\n",
    "def test_official_solutions():\n",
    "    challenges = ALL_TESTS.keys()\n",
    "    for challenge in challenges:\n",
    "        official_solution = globals()['official_' + challenge]\n",
    "        run_test(challenge, official_solution)\n",
    "\n",
    "test_official_solutions()"
   ]
  },
  {
   "cell_type": "code",
   "execution_count": 106,
   "metadata": {},
   "outputs": [],
   "source": [
    "from IPython.display import display, Markdown\n",
    "\n",
    "import random\n",
    "def choose_problem(problems):\n",
    "    title, desc = random.choice(list(problems.items()))\n",
    "    return display(Markdown(f'\\n### {title}\\n\\n{desc}\\n'))"
   ]
  },
  {
   "cell_type": "markdown",
   "metadata": {},
   "source": [
    "\n",
    "---\n",
    "\n",
    "---\n",
    "\n",
    "---\n",
    "\n",
    "---\n",
    "\n",
    "---\n",
    "\n",
    "---\n",
    "\n",
    "---\n",
    "\n",
    "---\n",
    "\n",
    "---\n",
    "\n",
    "---\n",
    "\n",
    "---\n",
    "\n",
    "---\n",
    "\n",
    "---\n",
    "\n",
    "---\n",
    "\n",
    "---\n",
    "\n",
    "\n",
    "# Welcome to the Coding Bee 💻🌈🍯🐝\n",
    "\n",
    "---\n",
    "\n",
    "Once you and your partner start, you will alternate saying characters to spell out a function. Each turn you can say:\n",
    "\n",
    "*   any character - including space, tab, newline (not backspace!)\n",
    "*   clear line - to clear the current line\n",
    "*   clear all - to clear the entire function\n",
    "*   finished - to signify that you are done\n",
    "\n",
    "You will have 5 minutes!\n",
    "\n",
    "Choose problem via:\n",
    "\n",
    "```python3\n",
    "choose_problem(HARD)\n",
    "choose_problem(MEDIUM)\n",
    "choose_problem(EASY)\n",
    "```\n",
    "\n",
    "Verify result for function named `f` with:\n",
    "\n",
    "```python3\n",
    "run_test('name_of_problem', f)\n",
    "```\n",
    "\n",
    "\n",
    "\n"
   ]
  },
  {
   "cell_type": "code",
   "execution_count": 107,
   "metadata": {},
   "outputs": [
    {
     "data": {
      "text/markdown": [
       "\n",
       "### hard_merge_dicts\n",
       "\n",
       "Takes in two dictionaries and returns a dictionary containing entries from the two dictionaries. If a key conflicts, the second dictionary should override the first dictionary. This method should not mutate the input dictionaries.\n"
      ],
      "text/plain": [
       "<IPython.core.display.Markdown object>"
      ]
     },
     "metadata": {},
     "output_type": "display_data"
    }
   ],
   "source": [
    "choose_problem(HARD)"
   ]
  },
  {
   "cell_type": "code",
   "execution_count": 108,
   "metadata": {},
   "outputs": [
    {
     "data": {
      "text/markdown": [
       "\n",
       "### med_sum_digits\n",
       "\n",
       "Takes a string that contains only digits, and returns the sum of those digits.\n"
      ],
      "text/plain": [
       "<IPython.core.display.Markdown object>"
      ]
     },
     "metadata": {},
     "output_type": "display_data"
    }
   ],
   "source": [
    "choose_problem(MEDIUM)"
   ]
  },
  {
   "cell_type": "code",
   "execution_count": 109,
   "metadata": {},
   "outputs": [
    {
     "data": {
      "text/markdown": [
       "\n",
       "### easy_iseven\n",
       "\n",
       "Takes a number and returns True if it's even\n"
      ],
      "text/plain": [
       "<IPython.core.display.Markdown object>"
      ]
     },
     "metadata": {},
     "output_type": "display_data"
    }
   ],
   "source": [
    "choose_problem(EASY)"
   ]
  },
  {
   "cell_type": "code",
   "execution_count": 110,
   "metadata": {},
   "outputs": [],
   "source": [
    "def f(x):\n",
    "    return x % 2 == 0"
   ]
  },
  {
   "cell_type": "code",
   "execution_count": 111,
   "metadata": {},
   "outputs": [
    {
     "data": {
      "text/markdown": [
       "### Testing: easy_iseven"
      ],
      "text/plain": [
       "<IPython.core.display.Markdown object>"
      ]
     },
     "metadata": {},
     "output_type": "display_data"
    },
    {
     "data": {
      "text/markdown": [
       "<font color=\"green\">**_SUCCESS_** 🙂</font>"
      ],
      "text/plain": [
       "<IPython.core.display.Markdown object>"
      ]
     },
     "metadata": {},
     "output_type": "display_data"
    }
   ],
   "source": [
    "run_test(\"easy_iseven\", f)"
   ]
  },
  {
   "cell_type": "code",
   "execution_count": 112,
   "metadata": {},
   "outputs": [],
   "source": [
    "def f(x): return True\n"
   ]
  },
  {
   "cell_type": "code",
   "execution_count": 113,
   "metadata": {},
   "outputs": [
    {
     "data": {
      "text/markdown": [
       "### Testing: easy_iseven"
      ],
      "text/plain": [
       "<IPython.core.display.Markdown object>"
      ]
     },
     "metadata": {},
     "output_type": "display_data"
    },
    {
     "name": "stdout",
     "output_type": "stream",
     "text": [
      "Input: [7]\n",
      "Expected: False\n",
      "Got back: True\n"
     ]
    },
    {
     "data": {
      "text/markdown": [
       "<font color=\"#ba2425\">**_FAIL_** 🙃</font>"
      ],
      "text/plain": [
       "<IPython.core.display.Markdown object>"
      ]
     },
     "metadata": {},
     "output_type": "display_data"
    }
   ],
   "source": [
    "run_test(\"easy_iseven\", f)"
   ]
  }
 ],
 "metadata": {
  "kernelspec": {
   "display_name": "Python 3",
   "language": "python",
   "name": "python3"
  },
  "language_info": {
   "codemirror_mode": {
    "name": "ipython",
    "version": 3
   },
   "file_extension": ".py",
   "mimetype": "text/x-python",
   "name": "python",
   "nbconvert_exporter": "python",
   "pygments_lexer": "ipython3",
   "version": "3.6.4"
  }
 },
 "nbformat": 4,
 "nbformat_minor": 1
}
