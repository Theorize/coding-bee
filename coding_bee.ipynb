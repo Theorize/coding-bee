{
 "cells": [
  {
   "cell_type": "markdown",
   "metadata": {},
   "source": [
    "# CODING BEE 🐝\n",
    "\n",
    "Use this notebook to administer the Coding Bee. Remember to clear the example problem below before starting. Happy coding!"
   ]
  },
  {
   "cell_type": "code",
   "execution_count": 51,
   "metadata": {},
   "outputs": [
    {
     "data": {
      "text/markdown": [
       "<font color=\"green\">**_READY TO GO!_** 🙂</font>"
      ],
      "text/plain": [
       "<IPython.core.display.Markdown object>"
      ]
     },
     "metadata": {},
     "output_type": "display_data"
    }
   ],
   "source": [
    "# run me first to import state and validate the project\n",
    "from administer import *\n",
    "validate_all()"
   ]
  },
  {
   "cell_type": "markdown",
   "metadata": {},
   "source": [
    "# Welcome to the Coding Bee 💻🌈🍯🐝\n",
    "\n",
    "---\n",
    "\n",
    "Once you and your partner start, you will alternate saying characters to spell out a function. Each turn you can say:\n",
    "\n",
    "*   any character - including space, tab, newline (not backspace!)\n",
    "*   clear line - to clear the current line\n",
    "*   clear all - to clear the entire function\n",
    "*   finished - to signify that you are done\n",
    "\n",
    "You will have 5 minutes!\n",
    "\n",
    "Choose problem via:\n",
    "\n",
    "```python3\n",
    "choose(HARD)\n",
    "choose(MEDIUM)\n",
    "choose(EASY)\n",
    "```\n",
    "\n",
    "Verify result for function named `f` with:\n",
    "\n",
    "```python3\n",
    "check('name_of_problem', f)\n",
    "```"
   ]
  },
  {
   "cell_type": "code",
   "execution_count": 80,
   "metadata": {},
   "outputs": [
    {
     "data": {
      "text/markdown": [
       "\n",
       "### hard_match_parens\n",
       "\n",
       "Takes in a string containing only '()'. Returns True if that string is a valid nesting of parentheses, False otherwise.\n"
      ],
      "text/plain": [
       "<IPython.core.display.Markdown object>"
      ]
     },
     "metadata": {},
     "output_type": "display_data"
    }
   ],
   "source": [
    "choose(HARD)"
   ]
  },
  {
   "cell_type": "code",
   "execution_count": 81,
   "metadata": {},
   "outputs": [],
   "source": [
    "def f(s):\n",
    "    x = 0\n",
    "    for c in s:\n",
    "        if c == '(':\n",
    "            x += 1\n",
    "        elif c == ')':\n",
    "            if x <= 0:\n",
    "                return False\n",
    "            x -= 1\n",
    "    return x == 0\n"
   ]
  },
  {
   "cell_type": "code",
   "execution_count": 82,
   "metadata": {},
   "outputs": [
    {
     "data": {
      "text/markdown": [
       "### Testing: hard_match_parens"
      ],
      "text/plain": [
       "<IPython.core.display.Markdown object>"
      ]
     },
     "metadata": {},
     "output_type": "display_data"
    },
    {
     "data": {
      "text/markdown": [
       "<font color=\"green\">**_SUCCESS_** 🙂</font>"
      ],
      "text/plain": [
       "<IPython.core.display.Markdown object>"
      ]
     },
     "metadata": {},
     "output_type": "display_data"
    }
   ],
   "source": [
    "check('hard_match_parens', f)"
   ]
  },
  {
   "cell_type": "code",
   "execution_count": null,
   "metadata": {},
   "outputs": [],
   "source": []
  }
 ],
 "metadata": {
  "kernelspec": {
   "display_name": "Python 3",
   "language": "python",
   "name": "python3"
  },
  "language_info": {
   "codemirror_mode": {
    "name": "ipython",
    "version": 3
   },
   "file_extension": ".py",
   "mimetype": "text/x-python",
   "name": "python",
   "nbconvert_exporter": "python",
   "pygments_lexer": "ipython3",
   "version": "3.6.4"
  }
 },
 "nbformat": 4,
 "nbformat_minor": 1
}
